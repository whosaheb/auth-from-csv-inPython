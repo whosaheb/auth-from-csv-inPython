{
  "nbformat": 4,
  "nbformat_minor": 0,
  "metadata": {
    "colab": {
      "name": "auth1.ipynb",
      "provenance": [],
      "collapsed_sections": [],
      "mount_file_id": "1trArhJi72PaV0kOxmHuAYYirkK2-HNGd",
      "authorship_tag": "ABX9TyPUUnk/H4EkxCmW03YvbevW",
      "include_colab_link": true
    },
    "kernelspec": {
      "name": "python3",
      "display_name": "Python 3"
    },
    "language_info": {
      "name": "python"
    }
  },
  "cells": [
    {
      "cell_type": "markdown",
      "metadata": {
        "id": "view-in-github",
        "colab_type": "text"
      },
      "source": [
        "<a href=\"https://colab.research.google.com/github/whosaheb/auth-from-csv-inPython/blob/main/auth1.ipynb\" target=\"_parent\"><img src=\"https://colab.research.google.com/assets/colab-badge.svg\" alt=\"Open In Colab\"/></a>"
      ]
    },
    {
      "cell_type": "code",
      "metadata": {
        "id": "-N_06laY_tRi"
      },
      "source": [
        "import pandas as pd\n",
        "data=pd.read_csv('/content/drive/MyDrive/userdetails.csv');"
      ],
      "execution_count": 17,
      "outputs": []
    },
    {
      "cell_type": "code",
      "metadata": {
        "id": "Z1GQhu4O_5er"
      },
      "source": [
        "def check_user(inputvalue,data):\n",
        "    result = data[data['username'].str.contains(inputvalue)].username\n",
        "    # print(result);\n",
        "    if (len(result.value_counts()) > 0 and inputvalue == result.values[0]):\n",
        "      print(\"username found\");\n",
        "      inputpassword = input(\"Enter your password: \")\n",
        "      check_password(inputvalue, inputpassword, data);\n",
        "    else :\n",
        "      print(\"username not found\");   \n",
        "    # # try :\n",
        "    # #   result = result.values[0];\n",
        "    # # except :\n",
        "    # #   print(\"username not found\");\n",
        "def check_password(inputusername, inputpassword, data):\n",
        "    result = data[data['password'].str.startswith(inputpassword)].username\n",
        "    # print(result);\n",
        "    if (len(result.value_counts()) > 0 and inputusername == result.values[0]) :\n",
        "      print(\"Password matched\");\n",
        "    else :\n",
        "      print(\"Password not matched\");"
      ],
      "execution_count": 19,
      "outputs": []
    },
    {
      "cell_type": "code",
      "metadata": {
        "id": "CjvdcAXY_Fvl",
        "colab": {
          "base_uri": "https://localhost:8080/"
        },
        "outputId": "4102fdb1-817c-4510-9a88-f6888589a67f"
      },
      "source": [
        "val = input(\"Enter your name: \")\n",
        "check_user(val, data);"
      ],
      "execution_count": 21,
      "outputs": [
        {
          "output_type": "stream",
          "name": "stdout",
          "text": [
            "Enter your name: sahebd\n",
            "username found\n",
            "Enter your password: 1235\n",
            "Password not matched\n"
          ]
        }
      ]
    },
    {
      "cell_type": "code",
      "metadata": {
        "id": "R_OtYUmTDpTS"
      },
      "source": [
        ""
      ],
      "execution_count": null,
      "outputs": []
    }
  ]
}